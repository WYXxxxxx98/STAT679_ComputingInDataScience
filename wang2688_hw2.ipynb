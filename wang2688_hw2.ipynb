{
 "cells": [
  {
   "cell_type": "markdown",
   "id": "f7d8e4ba",
   "metadata": {},
   "source": [
    "# STAT679 Homework2"
   ]
  },
  {
   "cell_type": "markdown",
   "id": "701e8edf",
   "metadata": {},
   "source": [
    "### Yixuan Wang\n",
    "#### wang2688@wisc.edu"
   ]
  },
  {
   "cell_type": "markdown",
   "id": "8b494142",
   "metadata": {},
   "source": [
    "## Problem 1"
   ]
  },
  {
   "cell_type": "code",
   "execution_count": 1,
   "id": "25248621",
   "metadata": {},
   "outputs": [],
   "source": [
    "#1.1\n",
    "def is_palindrome(s):\n",
    "    s=s.lower()\n",
    "    s=s.replace(' ','')\n",
    "    if s==s[::-1]:\n",
    "        return True\n",
    "    else:\n",
    "        return False"
   ]
  },
  {
   "cell_type": "code",
   "execution_count": 5,
   "id": "8e1a2c80",
   "metadata": {},
   "outputs": [],
   "source": [
    "#1.2\n",
    "def is_abecedarian(s):\n",
    "    #You may assume that the input string consists only of alphabetic characters and spaces.\n",
    "    s=s.lower()\n",
    "    s=s.replace(' ','')\n",
    "    for i in range(len(s)-1):\n",
    "        if s[i]>s[i+1]:\n",
    "            return False\n",
    "        else:\n",
    "            pass\n",
    "    return True"
   ]
  },
  {
   "cell_type": "code",
   "execution_count": 28,
   "id": "b0aa22dc",
   "metadata": {},
   "outputs": [],
   "source": [
    "#1.3\n",
    "def remove_vowels(s):\n",
    "    answer=''\n",
    "    for item in s:\n",
    "        if item in 'aeiou' or item in 'AEIOU':\n",
    "            pass\n",
    "        else:\n",
    "            answer=answer+item\n",
    "    return answer"
   ]
  },
  {
   "cell_type": "markdown",
   "id": "04102fbe",
   "metadata": {},
   "source": [
    "## Problem 2"
   ]
  },
  {
   "cell_type": "code",
   "execution_count": 31,
   "id": "5c83b012",
   "metadata": {},
   "outputs": [],
   "source": [
    "#2.1\n",
    "def list_reverse(l):\n",
    "    if not isinstance(l,list):\n",
    "        raise TypeError('The input must be a list.')\n",
    "    answer=l[::-1]\n",
    "    return answer"
   ]
  },
  {
   "cell_type": "code",
   "execution_count": 33,
   "id": "33925a7b",
   "metadata": {},
   "outputs": [],
   "source": [
    "#2.2\n",
    "def is_sorted(seq):\n",
    "    for i in range(len(seq)-1):\n",
    "        if seq[i]>seq[i+1]:\n",
    "            return False\n",
    "        else:\n",
    "            pass\n",
    "    return True"
   ]
  },
  {
   "cell_type": "code",
   "execution_count": 9,
   "id": "3efd753f",
   "metadata": {},
   "outputs": [],
   "source": [
    "#2.3\n",
    "def binary_search(t,elmt):\n",
    "    if len(t)>0:\n",
    "        n=len(t)//2\n",
    "        if elmt==t[n]:\n",
    "            return True\n",
    "        elif elmt>t[n]:\n",
    "            return binary_search(t[n+1:],elmt)\n",
    "        elif elmt<t[n]:\n",
    "            return binary_search(t[0:n],elmt)\n",
    "    else:\n",
    "        return False"
   ]
  },
  {
   "cell_type": "markdown",
   "id": "980727da",
   "metadata": {},
   "source": [
    "## Problem 3"
   ]
  },
  {
   "cell_type": "code",
   "execution_count": 48,
   "id": "551b6831",
   "metadata": {},
   "outputs": [],
   "source": [
    "#3.1\n",
    "def char_hist(s):\n",
    "    #perform error checking to verify that the input is a string\n",
    "    if not isinstance(s,str):\n",
    "        raise TypeError('The input should be a string.')\n",
    "    #count capital and lower-case letters as the same\n",
    "    s=s.lower()\n",
    "    dic=dict()\n",
    "    for item in s:\n",
    "        if dic.get(item):\n",
    "            dic[item]=dic[item]+1\n",
    "        else:\n",
    "            dic[item]=1\n",
    "    return dic\n",
    "#how to return a dictionary with key-value pairs (g,1),(a,3),(t,2),(c,1)?"
   ]
  },
  {
   "cell_type": "code",
   "execution_count": 49,
   "id": "70b3e494",
   "metadata": {},
   "outputs": [
    {
     "data": {
      "text/plain": [
       "{'g': 1, 'a': 3, 't': 2, 'c': 1}"
      ]
     },
     "execution_count": 49,
     "metadata": {},
     "output_type": "execute_result"
    }
   ],
   "source": [
    "char_hist('gattaca')"
   ]
  },
  {
   "cell_type": "code",
   "execution_count": 14,
   "id": "29f550c5",
   "metadata": {},
   "outputs": [],
   "source": [
    "#3.2\n",
    "def bigram_hist(s):\n",
    "    #Should we also check the error to verify the input?\n",
    "    s=s.lower()\n",
    "    dic=dict()\n",
    "    for i in range(len(s)-1):\n",
    "        if dic.get(s[i:i+2]):\n",
    "            dic[s[i:i+2]]=dic[s[i:i+2]]+1\n",
    "        else:\n",
    "            dic[s[i:i+2]]=1\n",
    "    return dic"
   ]
  },
  {
   "cell_type": "code",
   "execution_count": 15,
   "id": "1724f5a5",
   "metadata": {},
   "outputs": [
    {
     "data": {
      "text/plain": [
       "{'mi': 1, 'is': 2, 'ss': 2, 'si': 2, 'ip': 1, 'pp': 1, 'pi': 1}"
      ]
     },
     "execution_count": 15,
     "metadata": {},
     "output_type": "execute_result"
    }
   ],
   "source": [
    "bigram_hist('mississippi')"
   ]
  },
  {
   "cell_type": "markdown",
   "id": "d51dfb44",
   "metadata": {},
   "source": [
    "## Problem 4"
   ]
  },
  {
   "cell_type": "code",
   "execution_count": 17,
   "id": "b46de47e",
   "metadata": {},
   "outputs": [],
   "source": [
    "#4.1\n",
    "def vec_scalar_mult(t,s):\n",
    "    if not isinstance(t,tuple):\n",
    "        raise TypeError('The first input must be tuple.')\n",
    "    for item in t:\n",
    "        if isinstance(item,int) or isinstance(item,float):\n",
    "            pass\n",
    "        else:\n",
    "            raise ValueError('The element in tuple must be int or float.')\n",
    "    if isinstance(s,int) or isinstance(s,float):\n",
    "        pass\n",
    "    else:\n",
    "        raise ValueError('The second input must be int or float.')\n",
    "    k=len(t)*(s,)\n",
    "    result=tuple(elem_t*elem_s for elem_t,elem_s in zip(t,k))\n",
    "    return result"
   ]
  },
  {
   "cell_type": "code",
   "execution_count": 18,
   "id": "a9bdd503",
   "metadata": {},
   "outputs": [],
   "source": [
    "#4.2\n",
    "def vec_inner_product(t1,t2):\n",
    "    if not isinstance(t1,tuple) or not isinstance(t2,tuple):\n",
    "        raise TypeError('The input must be tuple.')\n",
    "    if len(t1)!=len(t2):\n",
    "        raise ValueError('The length of two tuples must be same.')\n",
    "    for i in range(len(t1)):\n",
    "        if isinstance(t1[i],int) or isinstance(t2[i],float):\n",
    "            pass\n",
    "        else:\n",
    "            raise TypeError('Inputs in tuple should be integer or float.')\n",
    "        if isinstance(t2[i],int) or isinstance(t2[i],float):\n",
    "            pass\n",
    "        else:\n",
    "            raise TypeError('Inputs in tuple should be integer or float.')\n",
    "    inner=tuple(x*y for x,y in zip(t1,t2))\n",
    "    answer=sum(inner)\n",
    "    return answer"
   ]
  },
  {
   "cell_type": "code",
   "execution_count": 8,
   "id": "35bbcfac",
   "metadata": {},
   "outputs": [],
   "source": [
    "#4.3\n",
    "def check_valid_mx(my_mx):\n",
    "    #Check my_mx is a tuple\n",
    "    if not isinstance(my_mx,tuple):\n",
    "        return False\n",
    "    # Check empty tuple?\n",
    "    if my_mx==tuple():\n",
    "        return True\n",
    "    length=len(my_mx[0])\n",
    "    #Every element of the tuple is itself a tuple\n",
    "    for item in my_mx:\n",
    "        if not isinstance(item,tuple):\n",
    "            return False\n",
    "    #Each of these tuples is the same length\n",
    "        if len(item)!=length:\n",
    "            return False\n",
    "    #every element of each of these tuples is a number\n",
    "        for j in range(length):\n",
    "            if isinstance(item[j],int) or isinstance(item[j],float):\n",
    "                pass\n",
    "            else:\n",
    "                return False\n",
    "    return True"
   ]
  },
  {
   "cell_type": "code",
   "execution_count": 16,
   "id": "4652f096",
   "metadata": {},
   "outputs": [
    {
     "data": {
      "text/plain": [
       "False"
      ]
     },
     "execution_count": 16,
     "metadata": {},
     "output_type": "execute_result"
    }
   ],
   "source": [
    "a=tuple([1,2,3])\n",
    "b=tuple(['a',1,1])\n",
    "my_mx=tuple([a,b])\n",
    "check_valid_mx(my_mx)"
   ]
  },
  {
   "cell_type": "code",
   "execution_count": 24,
   "id": "26fbbc08",
   "metadata": {},
   "outputs": [],
   "source": [
    "#4.4\n",
    "def mx_vec_mult(M,v):\n",
    "    if check_valid_mx(M)==False:\n",
    "        raise ValueError('The first input should be a matrix.')\n",
    "    answer=tuple(vec_inner_product(x,v) for x in M)\n",
    "    return answer"
   ]
  },
  {
   "cell_type": "markdown",
   "id": "ba8b394a",
   "metadata": {},
   "source": [
    "## Problem 5"
   ]
  },
  {
   "cell_type": "code",
   "execution_count": 29,
   "id": "9ee34d9d",
   "metadata": {},
   "outputs": [],
   "source": [
    "#5.1\n",
    "def is_valid_sparse_vector(v):\n",
    "    #check whether the input is a dictionary\n",
    "    if not isinstance(v,dict):\n",
    "        return False\n",
    "    for item in v:\n",
    "        #check keys are non-negative integers\n",
    "        if isinstance(item,int) and item>=0:\n",
    "            #check all its values are numbers\n",
    "            if (isinstance(v[item],int) or isinstance(v[item],float)) and v[item]!=0:\n",
    "                pass\n",
    "            else:\n",
    "                return False\n",
    "        else:\n",
    "            return False\n",
    "    return True"
   ]
  },
  {
   "cell_type": "code",
   "execution_count": 33,
   "id": "a6674c4c",
   "metadata": {},
   "outputs": [],
   "source": [
    "#5.2\n",
    "def sparse_inner_product(v1,v2):\n",
    "    if is_valid_sparse_vector(v1)==False or is_valid_sparse_vector(v2)==False:\n",
    "        raise TypeError('These two inputs should be valid sparse vectors.')\n",
    "    answer=0\n",
    "    for item in v1:\n",
    "        if v2.get(item):\n",
    "            answer=answer+v1[item]*v2[item]\n",
    "        else:\n",
    "            pass\n",
    "    return answer"
   ]
  },
  {
   "cell_type": "markdown",
   "id": "afb8320f",
   "metadata": {},
   "source": [
    "## Problem 6"
   ]
  },
  {
   "cell_type": "code",
   "execution_count": 35,
   "id": "8a4fec99",
   "metadata": {},
   "outputs": [],
   "source": [
    "#6.1\n",
    "def my_sum(*args):\n",
    "    answer=0\n",
    "    if args!=0:\n",
    "        for item in args:\n",
    "            answer=answer+item\n",
    "    return answer"
   ]
  },
  {
   "cell_type": "code",
   "execution_count": 39,
   "id": "dd32a8d0",
   "metadata": {},
   "outputs": [],
   "source": [
    "#6.2\n",
    "def reverse_tuple(t):\n",
    "    answer=t[::-1]\n",
    "    return answer"
   ]
  },
  {
   "cell_type": "code",
   "execution_count": 20,
   "id": "a5c5a862",
   "metadata": {},
   "outputs": [],
   "source": [
    "#6.3\n",
    "def rotate_tuple(t,n):\n",
    "    if not isinstance(t,tuple):\n",
    "        raise TypeError('The first argument should be tuple.')\n",
    "    n=int(n)\n",
    "    answer=tuple()\n",
    "    for i in range(len(t)):\n",
    "        answer=answer+(t[i-n%len(t)],)\n",
    "    return answer    "
   ]
  }
 ],
 "metadata": {
  "kernelspec": {
   "display_name": "Python 3",
   "language": "python",
   "name": "python3"
  },
  "language_info": {
   "codemirror_mode": {
    "name": "ipython",
    "version": 3
   },
   "file_extension": ".py",
   "mimetype": "text/x-python",
   "name": "python",
   "nbconvert_exporter": "python",
   "pygments_lexer": "ipython3",
   "version": "3.8.8"
  }
 },
 "nbformat": 4,
 "nbformat_minor": 5
}
