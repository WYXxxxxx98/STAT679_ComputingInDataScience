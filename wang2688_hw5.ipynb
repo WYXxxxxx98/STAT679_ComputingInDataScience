{
 "cells": [
  {
   "cell_type": "markdown",
   "id": "c91dfc29",
   "metadata": {},
   "source": [
    "# STAT679 Homework5\n",
    "### Yixuan Wang\n",
    "#### wang2688@wisc.edu"
   ]
  },
  {
   "cell_type": "markdown",
   "id": "d066ed7b",
   "metadata": {},
   "source": [
    "## Problem1"
   ]
  },
  {
   "cell_type": "code",
   "execution_count": 6,
   "id": "8e05b530",
   "metadata": {},
   "outputs": [],
   "source": [
    "#1.1\n",
    "class Fibo:\n",
    "    def __init__(self):\n",
    "        self.last,self.result=0,1\n",
    "        \n",
    "    def __iter__(self):\n",
    "        return self\n",
    "    \n",
    "    def __next__(self):\n",
    "        temp=self.last\n",
    "        self.last=self.result\n",
    "        self.result=temp+self.last\n",
    "        return temp"
   ]
  },
  {
   "cell_type": "code",
   "execution_count": 11,
   "id": "4b8b428e",
   "metadata": {},
   "outputs": [],
   "source": [
    "#1.2\n",
    "class GenFibo(Fibo):\n",
    "    def __init__(self,f0=0,f1=1):\n",
    "        self.set_f0(f0)\n",
    "        self.set_f1(f1)\n",
    "        self.last=self.f0\n",
    "        self.result=self.f1\n",
    "        \n",
    "    def set_f0(self,f0):\n",
    "        self.f0=f0\n",
    "    def set_f1(self,f1):\n",
    "        self.f1=f1"
   ]
  },
  {
   "cell_type": "code",
   "execution_count": 15,
   "id": "594cb3fa",
   "metadata": {},
   "outputs": [],
   "source": [
    "#1.3\n",
    "def primes():\n",
    "    p=2\n",
    "    while True:\n",
    "        if not any(p%x==0 for x in range(2,p)):\n",
    "            yield p\n",
    "        p=p+1"
   ]
  },
  {
   "cell_type": "code",
   "execution_count": 18,
   "id": "091e70a9",
   "metadata": {},
   "outputs": [],
   "source": [
    "#1.4\n",
    "def ulam():\n",
    "    u_list=[1]\n",
    "    u=2\n",
    "    count=0\n",
    "    while True:\n",
    "        if len(u_list)==1:\n",
    "            yield u_list[0]\n",
    "            u_list.append(u)\n",
    "        elif u==2:\n",
    "            yield u_list[1]\n",
    "            u=u+1\n",
    "        else:\n",
    "            for i in range(len(u_list)):\n",
    "                for j in range(len(u_list)):\n",
    "                    if u==u_list[i]+u_list[j] and u_list[i]<u_list[j]:\n",
    "                        count=count+1\n",
    "            if count==1:\n",
    "                yield u\n",
    "                u_list.append(u)\n",
    "            count=0\n",
    "            u=u+1    "
   ]
  },
  {
   "cell_type": "markdown",
   "id": "3ae345eb",
   "metadata": {},
   "source": [
    "## Problem2"
   ]
  },
  {
   "cell_type": "code",
   "execution_count": 25,
   "id": "2262fe79",
   "metadata": {},
   "outputs": [],
   "source": [
    "#2.1\n",
    "pow2minus1=[(2**n)-1 for n in range(21)]"
   ]
  },
  {
   "cell_type": "code",
   "execution_count": 59,
   "id": "73dc1a41",
   "metadata": {},
   "outputs": [],
   "source": [
    "#2.2\n",
    "def numlist1():\n",
    "    n=0\n",
    "    while True:\n",
    "        yield n\n",
    "        n=n+1\n",
    "        \n",
    "caterer=((n**2+n+2)/2 for n in numlist1())"
   ]
  },
  {
   "cell_type": "code",
   "execution_count": 37,
   "id": "267de76b",
   "metadata": {},
   "outputs": [],
   "source": [
    "#2.3\n",
    "def numlist2():\n",
    "    n=1\n",
    "    while True:\n",
    "        yield n\n",
    "        n=n+1\n",
    "        \n",
    "tetra=((n+2)*(n+1)*n/6 for n in numlist2())"
   ]
  },
  {
   "cell_type": "markdown",
   "id": "d7451acf",
   "metadata": {},
   "source": [
    "## Problem3"
   ]
  },
  {
   "cell_type": "code",
   "execution_count": 1,
   "id": "9c8217f7",
   "metadata": {},
   "outputs": [],
   "source": [
    "#3.1\n",
    "from functools import reduce\n",
    "sum_of_even_squares=reduce(lambda x,y:x+y, map(lambda x:x**2, filter(lambda x:x%2==0,range(2,21))))"
   ]
  },
  {
   "cell_type": "code",
   "execution_count": 44,
   "id": "0cc3ade6",
   "metadata": {},
   "outputs": [],
   "source": [
    "#3.2\n",
    "from functools import reduce\n",
    "from itertools import islice\n",
    "product_of_primes=reduce(lambda x,y: x*y,islice(primes(),0,13))"
   ]
  },
  {
   "cell_type": "code",
   "execution_count": 50,
   "id": "76d7c0f2",
   "metadata": {},
   "outputs": [],
   "source": [
    "#3.3\n",
    "from itertools import islice\n",
    "squared_primes=reduce(lambda x,y: x+y, map(lambda x: x**2, islice(primes(),0,31)))"
   ]
  },
  {
   "cell_type": "code",
   "execution_count": 56,
   "id": "ac2be10b",
   "metadata": {},
   "outputs": [],
   "source": [
    "#3.4 list of the first twenty harmonic numbers\n",
    "from itertools import accumulate\n",
    "harmonics=list(accumulate([1/k for k in range(1,21)],lambda x,y: x+y))"
   ]
  },
  {
   "cell_type": "code",
   "execution_count": 54,
   "id": "d3e9d5f5",
   "metadata": {},
   "outputs": [],
   "source": [
    "#3.5 first 12 tetra- hedral numbers\n",
    "from functools import reduce\n",
    "tetra_geom=reduce(lambda x,y: x*y, [(n+2)*(n+1)*n/6 for n in range(1,13)])**(1/12)"
   ]
  },
  {
   "cell_type": "markdown",
   "id": "f359cc44",
   "metadata": {},
   "source": [
    "## Problem4"
   ]
  },
  {
   "cell_type": "code",
   "execution_count": 66,
   "id": "38102dff",
   "metadata": {},
   "outputs": [],
   "source": [
    "#4.1\n",
    "def make_poly(coeffs):\n",
    "    if not isinstance(coeffs,list):\n",
    "        raise TypeError('The input coeffs should be a list.')\n",
    "    for i in range(len(coeffs)):\n",
    "        if not isinstance(coeffs[i],(int,float)):\n",
    "            raise ValueError('The elements of input coeffs should be integers or floats.')\n",
    "            \n",
    "    def p(x):\n",
    "        if not isinstance(x,(int,float)):\n",
    "            raise TypeError('The input of x should be integer or float.')\n",
    "        result=0\n",
    "        for i in range(len(coeffs)):\n",
    "            result+=coeffs[i]*(x**i)\n",
    "        return result\n",
    "    \n",
    "    return p"
   ]
  },
  {
   "cell_type": "code",
   "execution_count": 72,
   "id": "60346cf2",
   "metadata": {},
   "outputs": [],
   "source": [
    "#4.2\n",
    "def eval_poly(coeffs,args):\n",
    "    if not isinstance(args,list):\n",
    "        raise TypeError('The input args should be a list.')\n",
    "    for i in range(len(args)):\n",
    "        if not isinstance(args[i],(int,float)):\n",
    "            raise TypeError('The elements of input args should be integers and floats')\n",
    "    return list(map(make_poly(coeffs),args))"
   ]
  },
  {
   "cell_type": "code",
   "execution_count": null,
   "id": "5f617363",
   "metadata": {},
   "outputs": [],
   "source": []
  }
 ],
 "metadata": {
  "kernelspec": {
   "display_name": "Python 3 (ipykernel)",
   "language": "python",
   "name": "python3"
  },
  "language_info": {
   "codemirror_mode": {
    "name": "ipython",
    "version": 3
   },
   "file_extension": ".py",
   "mimetype": "text/x-python",
   "name": "python",
   "nbconvert_exporter": "python",
   "pygments_lexer": "ipython3",
   "version": "3.9.7"
  }
 },
 "nbformat": 4,
 "nbformat_minor": 5
}
