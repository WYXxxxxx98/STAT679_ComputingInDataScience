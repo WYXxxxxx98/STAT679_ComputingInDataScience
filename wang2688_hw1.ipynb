{
 "cells": [
  {
   "cell_type": "markdown",
   "id": "6fafb132",
   "metadata": {},
   "source": [
    "# STAT679 Homework1"
   ]
  },
  {
   "cell_type": "markdown",
   "id": "35911f17",
   "metadata": {},
   "source": [
    "### Yixuan Wang\n",
    "#### wang2688@wisc.edu"
   ]
  },
  {
   "cell_type": "markdown",
   "id": "023d0939",
   "metadata": {},
   "source": [
    "## problem1"
   ]
  },
  {
   "cell_type": "code",
   "execution_count": 2,
   "id": "dba01b84",
   "metadata": {},
   "outputs": [],
   "source": [
    "#1.1\n",
    "def kettin():\n",
    "    print(\"meow\")"
   ]
  },
  {
   "cell_type": "code",
   "execution_count": 3,
   "id": "58d3c5f6",
   "metadata": {},
   "outputs": [],
   "source": [
    "#1.2\n",
    "def bird_pad(string):\n",
    "    answer='bird'+string+'bird'\n",
    "    print(answer)"
   ]
  },
  {
   "cell_type": "code",
   "execution_count": 4,
   "id": "3b01390a",
   "metadata": {},
   "outputs": [],
   "source": [
    "#1.3\n",
    "def print_n(s,n):\n",
    "    while n>0:\n",
    "        print(s)\n",
    "        n=n-1"
   ]
  },
  {
   "cell_type": "markdown",
   "id": "3300b748",
   "metadata": {},
   "source": [
    "## problem2"
   ]
  },
  {
   "cell_type": "code",
   "execution_count": 5,
   "id": "ae9a1576",
   "metadata": {},
   "outputs": [],
   "source": [
    "#2.1\n",
    "def gcd(a,b):\n",
    "    if b>a:\n",
    "        t=b\n",
    "        b=a\n",
    "        a=t\n",
    "    while b!=0:\n",
    "        reminder=a%b\n",
    "        a=b\n",
    "        b=reminder\n",
    "    return(a)"
   ]
  },
  {
   "cell_type": "code",
   "execution_count": 6,
   "id": "93a25f2d",
   "metadata": {},
   "outputs": [
    {
     "data": {
      "text/plain": [
       "300"
      ]
     },
     "execution_count": 6,
     "metadata": {},
     "output_type": "execute_result"
    }
   ],
   "source": [
    "#2.2a\n",
    "gcd(1200,300)"
   ]
  },
  {
   "cell_type": "code",
   "execution_count": 7,
   "id": "4dd3ede5",
   "metadata": {},
   "outputs": [
    {
     "data": {
      "text/plain": [
       "60"
      ]
     },
     "execution_count": 7,
     "metadata": {},
     "output_type": "execute_result"
    }
   ],
   "source": [
    "#2.2b\n",
    "gcd(5040,60)"
   ]
  },
  {
   "cell_type": "code",
   "execution_count": 8,
   "id": "a317b560",
   "metadata": {},
   "outputs": [
    {
     "data": {
      "text/plain": [
       "1"
      ]
     },
     "execution_count": 8,
     "metadata": {},
     "output_type": "execute_result"
    }
   ],
   "source": [
    "#2.2c\n",
    "gcd(29,31)"
   ]
  },
  {
   "cell_type": "code",
   "execution_count": 9,
   "id": "c723e31f",
   "metadata": {},
   "outputs": [
    {
     "data": {
      "text/plain": [
       "1"
      ]
     },
     "execution_count": 9,
     "metadata": {},
     "output_type": "execute_result"
    }
   ],
   "source": [
    "#2.2d\n",
    "gcd(2021,2022)"
   ]
  },
  {
   "cell_type": "code",
   "execution_count": 10,
   "id": "fae5b448",
   "metadata": {},
   "outputs": [
    {
     "name": "stdout",
     "output_type": "stream",
     "text": [
      "-1\n",
      "-5\n"
     ]
    }
   ],
   "source": [
    "#2.3\n",
    "print(gcd(-5,-9))\n",
    "print(gcd(-10,-5))"
   ]
  },
  {
   "cell_type": "markdown",
   "id": "e6c91ebc",
   "metadata": {},
   "source": [
    "It is unreasonable to get the negative greatest common divisor for both two negative numbers with gcd function. For mathematical part, we will get the all divisors with positive answers. So this behavior is not make sense with respect of mathmetical definitions."
   ]
  },
  {
   "cell_type": "markdown",
   "id": "62d459ba",
   "metadata": {},
   "source": [
    "## problem3"
   ]
  },
  {
   "cell_type": "code",
   "execution_count": 11,
   "id": "cd4ca25c",
   "metadata": {},
   "outputs": [],
   "source": [
    "#3.1\n",
    "def euler_limit(n):\n",
    "    answer=(1+1/n)**n\n",
    "    return answer"
   ]
  },
  {
   "cell_type": "code",
   "execution_count": 12,
   "id": "77c6eb74",
   "metadata": {},
   "outputs": [],
   "source": [
    "#3.2\n",
    "def factorial(k):\n",
    "    answer=1\n",
    "    if k==0:\n",
    "        answer=1\n",
    "    while k>0:\n",
    "        answer=answer*k\n",
    "        k=k-1\n",
    "    return answer"
   ]
  },
  {
   "cell_type": "code",
   "execution_count": 13,
   "id": "1bf736c5",
   "metadata": {},
   "outputs": [],
   "source": [
    "#3.3\n",
    "def euler_infinite_sum(k):\n",
    "    answer=0\n",
    "    while k>0:\n",
    "        k=k-1\n",
    "        answer=answer+1/factorial(k)\n",
    "    return answer"
   ]
  },
  {
   "cell_type": "code",
   "execution_count": 14,
   "id": "d7dee7ad",
   "metadata": {},
   "outputs": [],
   "source": [
    "#3.4\n",
    "import math\n",
    "def euler_approx(epsilon):\n",
    "    i=0\n",
    "    e=math.exp(1)\n",
    "    while abs(euler_infinite_sum(i)-e)>=epsilon:\n",
    "        i=i+1\n",
    "    return i"
   ]
  },
  {
   "cell_type": "code",
   "execution_count": 15,
   "id": "f45b75f2",
   "metadata": {},
   "outputs": [],
   "source": [
    "#3.5\n",
    "def print_euler_sum_table(n):\n",
    "    for k in range(n):\n",
    "        print(euler_infinite_sum(k+1))\n",
    "    \n",
    "def print_euler_lim_table(n):\n",
    "    for k in range(n):\n",
    "        print(euler_limit(k+1))"
   ]
  },
  {
   "cell_type": "code",
   "execution_count": 16,
   "id": "509b64b3",
   "metadata": {},
   "outputs": [
    {
     "name": "stdout",
     "output_type": "stream",
     "text": [
      "1.0\n",
      "2.0\n",
      "2.5\n",
      "2.6666666666666665\n",
      "2.708333333333333\n",
      "2.716666666666667\n",
      "2.7180555555555554\n",
      "2.7182539682539684\n",
      "2.7182787698412696\n",
      "2.7182815255731922\n",
      "2.7182818011463845\n",
      "2.718281826198493\n",
      "2.7182818282861687\n",
      "2.718281828446759\n",
      "2.7182818284582297\n",
      "2.7182818284589945\n",
      "2.718281828459042\n",
      "2.718281828459045\n",
      "2.718281828459045\n",
      "2.718281828459045\n",
      "2.0\n",
      "2.25\n",
      "2.37037037037037\n",
      "2.44140625\n",
      "2.4883199999999994\n",
      "2.5216263717421135\n",
      "2.546499697040712\n",
      "2.565784513950348\n",
      "2.5811747917131984\n",
      "2.5937424601000023\n",
      "2.6041990118975287\n",
      "2.613035290224676\n",
      "2.6206008878857308\n",
      "2.6271515563008685\n",
      "2.6328787177279187\n",
      "2.6379284973666\n",
      "2.64241437518311\n",
      "2.6464258210976865\n",
      "2.650034326640442\n",
      "2.653297705144422\n",
      "2.656263213926108\n",
      "2.658969858537786\n",
      "2.6614501186387796\n",
      "2.663731258068599\n",
      "2.665836331487422\n",
      "2.6677849665337465\n",
      "2.6695939778125704\n",
      "2.6712778534408463\n",
      "2.6728491439808066\n",
      "2.6743187758703026\n",
      "2.6756963059146854\n",
      "2.676990129378183\n",
      "2.678207651253779\n",
      "2.6793554280957674\n",
      "2.6804392861534603\n",
      "2.6814644203008586\n",
      "2.6824354773085255\n",
      "2.6833566262745787\n",
      "2.6842316184670922\n",
      "2.685063838389963\n",
      "2.6858563475377526\n",
      "2.686611922032571\n",
      "2.687333085118294\n",
      "2.6880221353133043\n",
      "2.688681170884324\n",
      "2.689312111189782\n",
      "2.6899167153502597\n",
      "2.6904965986289264\n",
      "2.691053246842418\n",
      "2.691588029073608\n",
      "e= 2.718281828459045\n"
     ]
    }
   ],
   "source": [
    "#3.6\n",
    "print_euler_sum_table(20)\n",
    "print_euler_lim_table(50)\n",
    "print('e=',math.exp(1))"
   ]
  },
  {
   "cell_type": "markdown",
   "id": "ec7d2c70",
   "metadata": {},
   "source": [
    "For the function euler_infinite_sum(), when n=18, it converges to the mathematical constant e. But for the function euler_limit(), I checked n=50, it still not converge to this mathematical constant."
   ]
  },
  {
   "cell_type": "markdown",
   "id": "869147d2",
   "metadata": {},
   "source": [
    "## problem4"
   ]
  },
  {
   "cell_type": "code",
   "execution_count": 17,
   "id": "4c17a8e0",
   "metadata": {},
   "outputs": [],
   "source": [
    "#4.1\n",
    "def is_power_of_2(n):\n",
    "    if n==1:\n",
    "        return True\n",
    "    else:\n",
    "        while n>1:\n",
    "            p=n/2\n",
    "            r=n%2\n",
    "            if r!=0:\n",
    "                return False\n",
    "            else:\n",
    "                if p!=1:\n",
    "                    n=p\n",
    "                else:\n",
    "                    return True"
   ]
  },
  {
   "cell_type": "code",
   "execution_count": 18,
   "id": "5cd0e943",
   "metadata": {},
   "outputs": [],
   "source": [
    "#4.2\n",
    "def is_power(b,n):\n",
    "    if b==0:\n",
    "        return True\n",
    "    elif n==1:\n",
    "        return False\n",
    "    else:\n",
    "        while n>1:\n",
    "            p=n/b\n",
    "            r=n%b\n",
    "            if r!=0:\n",
    "                return False\n",
    "            else:\n",
    "                if p!=1:\n",
    "                    n=p\n",
    "                else:\n",
    "                    return True\n",
    "##先判断b"
   ]
  },
  {
   "cell_type": "code",
   "execution_count": null,
   "id": "439ff84a",
   "metadata": {},
   "outputs": [],
   "source": []
  },
  {
   "cell_type": "code",
   "execution_count": null,
   "id": "7f437b2b",
   "metadata": {},
   "outputs": [],
   "source": []
  }
 ],
 "metadata": {
  "kernelspec": {
   "display_name": "Python 3",
   "language": "python",
   "name": "python3"
  },
  "language_info": {
   "codemirror_mode": {
    "name": "ipython",
    "version": 3
   },
   "file_extension": ".py",
   "mimetype": "text/x-python",
   "name": "python",
   "nbconvert_exporter": "python",
   "pygments_lexer": "ipython3",
   "version": "3.8.8"
  }
 },
 "nbformat": 4,
 "nbformat_minor": 5
}
